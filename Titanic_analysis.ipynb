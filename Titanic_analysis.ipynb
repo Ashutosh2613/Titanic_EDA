{
 "cells": [
  {
   "cell_type": "code",
   "execution_count": 2,
   "id": "2c32e083-65bf-48a1-b986-3328f133481a",
   "metadata": {},
   "outputs": [
    {
     "name": "stdout",
     "output_type": "stream",
     "text": [
      "Collecting pandas\n",
      "  Downloading pandas-2.2.3-cp312-cp312-macosx_11_0_arm64.whl.metadata (89 kB)\n",
      "Requirement already satisfied: numpy>=1.26.0 in /Library/Frameworks/Python.framework/Versions/3.12/lib/python3.12/site-packages (from pandas) (2.2.4)\n",
      "Requirement already satisfied: python-dateutil>=2.8.2 in /Library/Frameworks/Python.framework/Versions/3.12/lib/python3.12/site-packages (from pandas) (2.9.0.post0)\n",
      "Collecting pytz>=2020.1 (from pandas)\n",
      "  Downloading pytz-2025.2-py2.py3-none-any.whl.metadata (22 kB)\n",
      "Collecting tzdata>=2022.7 (from pandas)\n",
      "  Downloading tzdata-2025.2-py2.py3-none-any.whl.metadata (1.4 kB)\n",
      "Requirement already satisfied: six>=1.5 in /Library/Frameworks/Python.framework/Versions/3.12/lib/python3.12/site-packages (from python-dateutil>=2.8.2->pandas) (1.16.0)\n",
      "Downloading pandas-2.2.3-cp312-cp312-macosx_11_0_arm64.whl (11.4 MB)\n",
      "\u001b[2K   \u001b[90m━━━━━━━━━━━━━━━━━━━━━━━━━━━━━━━━━━━━━━━━\u001b[0m \u001b[32m11.4/11.4 MB\u001b[0m \u001b[31m17.5 MB/s\u001b[0m eta \u001b[36m0:00:00\u001b[0ma \u001b[36m0:00:01\u001b[0m\n",
      "\u001b[?25hDownloading pytz-2025.2-py2.py3-none-any.whl (509 kB)\n",
      "Downloading tzdata-2025.2-py2.py3-none-any.whl (347 kB)\n",
      "Installing collected packages: pytz, tzdata, pandas\n",
      "Successfully installed pandas-2.2.3 pytz-2025.2 tzdata-2025.2\n",
      "\n",
      "\u001b[1m[\u001b[0m\u001b[34;49mnotice\u001b[0m\u001b[1;39;49m]\u001b[0m\u001b[39;49m A new release of pip is available: \u001b[0m\u001b[31;49m24.2\u001b[0m\u001b[39;49m -> \u001b[0m\u001b[32;49m25.0.1\u001b[0m\n",
      "\u001b[1m[\u001b[0m\u001b[34;49mnotice\u001b[0m\u001b[1;39;49m]\u001b[0m\u001b[39;49m To update, run: \u001b[0m\u001b[32;49mpip install --upgrade pip\u001b[0m\n"
     ]
    }
   ],
   "source": [
    "!pip install pandas"
   ]
  },
  {
   "cell_type": "code",
   "execution_count": 336,
   "id": "9ee24d07-c84c-41b7-b4ee-064c21765bdc",
   "metadata": {},
   "outputs": [
    {
     "name": "stdout",
     "output_type": "stream",
     "text": [
      "Collecting matplotlib\n",
      "  Downloading matplotlib-3.10.1-cp312-cp312-macosx_11_0_arm64.whl.metadata (11 kB)\n",
      "Collecting contourpy>=1.0.1 (from matplotlib)\n",
      "  Downloading contourpy-1.3.2-cp312-cp312-macosx_11_0_arm64.whl.metadata (5.5 kB)\n",
      "Collecting cycler>=0.10 (from matplotlib)\n",
      "  Downloading cycler-0.12.1-py3-none-any.whl.metadata (3.8 kB)\n",
      "Collecting fonttools>=4.22.0 (from matplotlib)\n",
      "  Downloading fonttools-4.57.0-cp312-cp312-macosx_10_13_universal2.whl.metadata (102 kB)\n",
      "Collecting kiwisolver>=1.3.1 (from matplotlib)\n",
      "  Downloading kiwisolver-1.4.8-cp312-cp312-macosx_11_0_arm64.whl.metadata (6.2 kB)\n",
      "Requirement already satisfied: numpy>=1.23 in /Library/Frameworks/Python.framework/Versions/3.12/lib/python3.12/site-packages (from matplotlib) (2.2.4)\n",
      "Requirement already satisfied: packaging>=20.0 in /Library/Frameworks/Python.framework/Versions/3.12/lib/python3.12/site-packages (from matplotlib) (24.1)\n",
      "Collecting pillow>=8 (from matplotlib)\n",
      "  Downloading pillow-11.2.1-cp312-cp312-macosx_11_0_arm64.whl.metadata (8.9 kB)\n",
      "Collecting pyparsing>=2.3.1 (from matplotlib)\n",
      "  Downloading pyparsing-3.2.3-py3-none-any.whl.metadata (5.0 kB)\n",
      "Requirement already satisfied: python-dateutil>=2.7 in /Library/Frameworks/Python.framework/Versions/3.12/lib/python3.12/site-packages (from matplotlib) (2.9.0.post0)\n",
      "Requirement already satisfied: six>=1.5 in /Library/Frameworks/Python.framework/Versions/3.12/lib/python3.12/site-packages (from python-dateutil>=2.7->matplotlib) (1.16.0)\n",
      "Downloading matplotlib-3.10.1-cp312-cp312-macosx_11_0_arm64.whl (8.0 MB)\n",
      "\u001b[2K   \u001b[90m━━━━━━━━━━━━━━━━━━━━━━━━━━━━━━━━━━━━━━━━\u001b[0m \u001b[32m8.0/8.0 MB\u001b[0m \u001b[31m19.6 MB/s\u001b[0m eta \u001b[36m0:00:00\u001b[0m00:01\u001b[0m00:01\u001b[0m\n",
      "\u001b[?25hDownloading contourpy-1.3.2-cp312-cp312-macosx_11_0_arm64.whl (255 kB)\n",
      "Downloading cycler-0.12.1-py3-none-any.whl (8.3 kB)\n",
      "Downloading fonttools-4.57.0-cp312-cp312-macosx_10_13_universal2.whl (2.8 MB)\n",
      "\u001b[2K   \u001b[90m━━━━━━━━━━━━━━━━━━━━━━━━━━━━━━━━━━━━━━━━\u001b[0m \u001b[32m2.8/2.8 MB\u001b[0m \u001b[31m9.0 MB/s\u001b[0m eta \u001b[36m0:00:00\u001b[0ma \u001b[36m0:00:01\u001b[0m\n",
      "\u001b[?25hDownloading kiwisolver-1.4.8-cp312-cp312-macosx_11_0_arm64.whl (65 kB)\n",
      "Downloading pillow-11.2.1-cp312-cp312-macosx_11_0_arm64.whl (3.0 MB)\n",
      "\u001b[2K   \u001b[90m━━━━━━━━━━━━━━━━━━━━━━━━━━━━━━━━━━━━━━━━\u001b[0m \u001b[32m3.0/3.0 MB\u001b[0m \u001b[31m9.3 MB/s\u001b[0m eta \u001b[36m0:00:00\u001b[0ma \u001b[36m0:00:01\u001b[0m\n",
      "\u001b[?25hDownloading pyparsing-3.2.3-py3-none-any.whl (111 kB)\n",
      "Installing collected packages: pyparsing, pillow, kiwisolver, fonttools, cycler, contourpy, matplotlib\n",
      "Successfully installed contourpy-1.3.2 cycler-0.12.1 fonttools-4.57.0 kiwisolver-1.4.8 matplotlib-3.10.1 pillow-11.2.1 pyparsing-3.2.3\n",
      "\n",
      "\u001b[1m[\u001b[0m\u001b[34;49mnotice\u001b[0m\u001b[1;39;49m]\u001b[0m\u001b[39;49m A new release of pip is available: \u001b[0m\u001b[31;49m24.2\u001b[0m\u001b[39;49m -> \u001b[0m\u001b[32;49m25.0.1\u001b[0m\n",
      "\u001b[1m[\u001b[0m\u001b[34;49mnotice\u001b[0m\u001b[1;39;49m]\u001b[0m\u001b[39;49m To update, run: \u001b[0m\u001b[32;49mpip install --upgrade pip\u001b[0m\n"
     ]
    }
   ],
   "source": [
    "!pip install matplotlib"
   ]
  },
  {
   "cell_type": "code",
   "execution_count": 6,
   "id": "99016da0-2372-40b3-ae94-5db1fa961a02",
   "metadata": {},
   "outputs": [],
   "source": [
    "import pandas as pd\n",
    "import numpy as np\n",
    "import matplotlib.pyplot as plt"
   ]
  },
  {
   "cell_type": "code",
   "execution_count": 7,
   "id": "6841c58a-7458-4768-ab38-3cfb3572b53a",
   "metadata": {},
   "outputs": [],
   "source": [
    "df = pd.read_csv('/Users/ashutoshpatil/Downloads/Titanic-Dataset.csv')"
   ]
  },
  {
   "cell_type": "code",
   "execution_count": 8,
   "id": "817009f4-c07b-4f5a-a365-7a4dea31533c",
   "metadata": {},
   "outputs": [
    {
     "data": {
      "text/html": [
       "<div>\n",
       "<style scoped>\n",
       "    .dataframe tbody tr th:only-of-type {\n",
       "        vertical-align: middle;\n",
       "    }\n",
       "\n",
       "    .dataframe tbody tr th {\n",
       "        vertical-align: top;\n",
       "    }\n",
       "\n",
       "    .dataframe thead th {\n",
       "        text-align: right;\n",
       "    }\n",
       "</style>\n",
       "<table border=\"1\" class=\"dataframe\">\n",
       "  <thead>\n",
       "    <tr style=\"text-align: right;\">\n",
       "      <th></th>\n",
       "      <th>PassengerId</th>\n",
       "      <th>Survived</th>\n",
       "      <th>Pclass</th>\n",
       "      <th>Name</th>\n",
       "      <th>Sex</th>\n",
       "      <th>Age</th>\n",
       "      <th>SibSp</th>\n",
       "      <th>Parch</th>\n",
       "      <th>Ticket</th>\n",
       "      <th>Fare</th>\n",
       "      <th>Cabin</th>\n",
       "      <th>Embarked</th>\n",
       "    </tr>\n",
       "  </thead>\n",
       "  <tbody>\n",
       "    <tr>\n",
       "      <th>0</th>\n",
       "      <td>1</td>\n",
       "      <td>0</td>\n",
       "      <td>3</td>\n",
       "      <td>Braund, Mr. Owen Harris</td>\n",
       "      <td>male</td>\n",
       "      <td>22.0</td>\n",
       "      <td>1</td>\n",
       "      <td>0</td>\n",
       "      <td>A/5 21171</td>\n",
       "      <td>7.2500</td>\n",
       "      <td>NaN</td>\n",
       "      <td>S</td>\n",
       "    </tr>\n",
       "    <tr>\n",
       "      <th>1</th>\n",
       "      <td>2</td>\n",
       "      <td>1</td>\n",
       "      <td>1</td>\n",
       "      <td>Cumings, Mrs. John Bradley (Florence Briggs Th...</td>\n",
       "      <td>female</td>\n",
       "      <td>38.0</td>\n",
       "      <td>1</td>\n",
       "      <td>0</td>\n",
       "      <td>PC 17599</td>\n",
       "      <td>71.2833</td>\n",
       "      <td>C85</td>\n",
       "      <td>C</td>\n",
       "    </tr>\n",
       "    <tr>\n",
       "      <th>2</th>\n",
       "      <td>3</td>\n",
       "      <td>1</td>\n",
       "      <td>3</td>\n",
       "      <td>Heikkinen, Miss. Laina</td>\n",
       "      <td>female</td>\n",
       "      <td>26.0</td>\n",
       "      <td>0</td>\n",
       "      <td>0</td>\n",
       "      <td>STON/O2. 3101282</td>\n",
       "      <td>7.9250</td>\n",
       "      <td>NaN</td>\n",
       "      <td>S</td>\n",
       "    </tr>\n",
       "    <tr>\n",
       "      <th>3</th>\n",
       "      <td>4</td>\n",
       "      <td>1</td>\n",
       "      <td>1</td>\n",
       "      <td>Futrelle, Mrs. Jacques Heath (Lily May Peel)</td>\n",
       "      <td>female</td>\n",
       "      <td>35.0</td>\n",
       "      <td>1</td>\n",
       "      <td>0</td>\n",
       "      <td>113803</td>\n",
       "      <td>53.1000</td>\n",
       "      <td>C123</td>\n",
       "      <td>S</td>\n",
       "    </tr>\n",
       "    <tr>\n",
       "      <th>4</th>\n",
       "      <td>5</td>\n",
       "      <td>0</td>\n",
       "      <td>3</td>\n",
       "      <td>Allen, Mr. William Henry</td>\n",
       "      <td>male</td>\n",
       "      <td>35.0</td>\n",
       "      <td>0</td>\n",
       "      <td>0</td>\n",
       "      <td>373450</td>\n",
       "      <td>8.0500</td>\n",
       "      <td>NaN</td>\n",
       "      <td>S</td>\n",
       "    </tr>\n",
       "  </tbody>\n",
       "</table>\n",
       "</div>"
      ],
      "text/plain": [
       "   PassengerId  Survived  Pclass  \\\n",
       "0            1         0       3   \n",
       "1            2         1       1   \n",
       "2            3         1       3   \n",
       "3            4         1       1   \n",
       "4            5         0       3   \n",
       "\n",
       "                                                Name     Sex   Age  SibSp  \\\n",
       "0                            Braund, Mr. Owen Harris    male  22.0      1   \n",
       "1  Cumings, Mrs. John Bradley (Florence Briggs Th...  female  38.0      1   \n",
       "2                             Heikkinen, Miss. Laina  female  26.0      0   \n",
       "3       Futrelle, Mrs. Jacques Heath (Lily May Peel)  female  35.0      1   \n",
       "4                           Allen, Mr. William Henry    male  35.0      0   \n",
       "\n",
       "   Parch            Ticket     Fare Cabin Embarked  \n",
       "0      0         A/5 21171   7.2500   NaN        S  \n",
       "1      0          PC 17599  71.2833   C85        C  \n",
       "2      0  STON/O2. 3101282   7.9250   NaN        S  \n",
       "3      0            113803  53.1000  C123        S  \n",
       "4      0            373450   8.0500   NaN        S  "
      ]
     },
     "execution_count": 8,
     "metadata": {},
     "output_type": "execute_result"
    }
   ],
   "source": [
    "df.head()"
   ]
  },
  {
   "cell_type": "code",
   "execution_count": 9,
   "id": "a6b94566-d876-4396-9a32-4a5160bbffc9",
   "metadata": {},
   "outputs": [
    {
     "name": "stdout",
     "output_type": "stream",
     "text": [
      "<class 'pandas.core.frame.DataFrame'>\n",
      "RangeIndex: 891 entries, 0 to 890\n",
      "Data columns (total 12 columns):\n",
      " #   Column       Non-Null Count  Dtype  \n",
      "---  ------       --------------  -----  \n",
      " 0   PassengerId  891 non-null    int64  \n",
      " 1   Survived     891 non-null    int64  \n",
      " 2   Pclass       891 non-null    int64  \n",
      " 3   Name         891 non-null    object \n",
      " 4   Sex          891 non-null    object \n",
      " 5   Age          714 non-null    float64\n",
      " 6   SibSp        891 non-null    int64  \n",
      " 7   Parch        891 non-null    int64  \n",
      " 8   Ticket       891 non-null    object \n",
      " 9   Fare         891 non-null    float64\n",
      " 10  Cabin        204 non-null    object \n",
      " 11  Embarked     889 non-null    object \n",
      "dtypes: float64(2), int64(5), object(5)\n",
      "memory usage: 83.7+ KB\n"
     ]
    }
   ],
   "source": [
    "df.info()"
   ]
  },
  {
   "cell_type": "code",
   "execution_count": 10,
   "id": "ade07f55-347a-44b1-8e92-dc322b57e425",
   "metadata": {},
   "outputs": [
    {
     "data": {
      "text/html": [
       "<div>\n",
       "<style scoped>\n",
       "    .dataframe tbody tr th:only-of-type {\n",
       "        vertical-align: middle;\n",
       "    }\n",
       "\n",
       "    .dataframe tbody tr th {\n",
       "        vertical-align: top;\n",
       "    }\n",
       "\n",
       "    .dataframe thead th {\n",
       "        text-align: right;\n",
       "    }\n",
       "</style>\n",
       "<table border=\"1\" class=\"dataframe\">\n",
       "  <thead>\n",
       "    <tr style=\"text-align: right;\">\n",
       "      <th></th>\n",
       "      <th>PassengerId</th>\n",
       "      <th>Survived</th>\n",
       "      <th>Pclass</th>\n",
       "      <th>Age</th>\n",
       "      <th>SibSp</th>\n",
       "      <th>Parch</th>\n",
       "      <th>Fare</th>\n",
       "    </tr>\n",
       "  </thead>\n",
       "  <tbody>\n",
       "    <tr>\n",
       "      <th>count</th>\n",
       "      <td>891.000000</td>\n",
       "      <td>891.000000</td>\n",
       "      <td>891.000000</td>\n",
       "      <td>714.000000</td>\n",
       "      <td>891.000000</td>\n",
       "      <td>891.000000</td>\n",
       "      <td>891.000000</td>\n",
       "    </tr>\n",
       "    <tr>\n",
       "      <th>mean</th>\n",
       "      <td>446.000000</td>\n",
       "      <td>0.383838</td>\n",
       "      <td>2.308642</td>\n",
       "      <td>29.699118</td>\n",
       "      <td>0.523008</td>\n",
       "      <td>0.381594</td>\n",
       "      <td>32.204208</td>\n",
       "    </tr>\n",
       "    <tr>\n",
       "      <th>std</th>\n",
       "      <td>257.353842</td>\n",
       "      <td>0.486592</td>\n",
       "      <td>0.836071</td>\n",
       "      <td>14.526497</td>\n",
       "      <td>1.102743</td>\n",
       "      <td>0.806057</td>\n",
       "      <td>49.693429</td>\n",
       "    </tr>\n",
       "    <tr>\n",
       "      <th>min</th>\n",
       "      <td>1.000000</td>\n",
       "      <td>0.000000</td>\n",
       "      <td>1.000000</td>\n",
       "      <td>0.420000</td>\n",
       "      <td>0.000000</td>\n",
       "      <td>0.000000</td>\n",
       "      <td>0.000000</td>\n",
       "    </tr>\n",
       "    <tr>\n",
       "      <th>25%</th>\n",
       "      <td>223.500000</td>\n",
       "      <td>0.000000</td>\n",
       "      <td>2.000000</td>\n",
       "      <td>20.125000</td>\n",
       "      <td>0.000000</td>\n",
       "      <td>0.000000</td>\n",
       "      <td>7.910400</td>\n",
       "    </tr>\n",
       "    <tr>\n",
       "      <th>50%</th>\n",
       "      <td>446.000000</td>\n",
       "      <td>0.000000</td>\n",
       "      <td>3.000000</td>\n",
       "      <td>28.000000</td>\n",
       "      <td>0.000000</td>\n",
       "      <td>0.000000</td>\n",
       "      <td>14.454200</td>\n",
       "    </tr>\n",
       "    <tr>\n",
       "      <th>75%</th>\n",
       "      <td>668.500000</td>\n",
       "      <td>1.000000</td>\n",
       "      <td>3.000000</td>\n",
       "      <td>38.000000</td>\n",
       "      <td>1.000000</td>\n",
       "      <td>0.000000</td>\n",
       "      <td>31.000000</td>\n",
       "    </tr>\n",
       "    <tr>\n",
       "      <th>max</th>\n",
       "      <td>891.000000</td>\n",
       "      <td>1.000000</td>\n",
       "      <td>3.000000</td>\n",
       "      <td>80.000000</td>\n",
       "      <td>8.000000</td>\n",
       "      <td>6.000000</td>\n",
       "      <td>512.329200</td>\n",
       "    </tr>\n",
       "  </tbody>\n",
       "</table>\n",
       "</div>"
      ],
      "text/plain": [
       "       PassengerId    Survived      Pclass         Age       SibSp  \\\n",
       "count   891.000000  891.000000  891.000000  714.000000  891.000000   \n",
       "mean    446.000000    0.383838    2.308642   29.699118    0.523008   \n",
       "std     257.353842    0.486592    0.836071   14.526497    1.102743   \n",
       "min       1.000000    0.000000    1.000000    0.420000    0.000000   \n",
       "25%     223.500000    0.000000    2.000000   20.125000    0.000000   \n",
       "50%     446.000000    0.000000    3.000000   28.000000    0.000000   \n",
       "75%     668.500000    1.000000    3.000000   38.000000    1.000000   \n",
       "max     891.000000    1.000000    3.000000   80.000000    8.000000   \n",
       "\n",
       "            Parch        Fare  \n",
       "count  891.000000  891.000000  \n",
       "mean     0.381594   32.204208  \n",
       "std      0.806057   49.693429  \n",
       "min      0.000000    0.000000  \n",
       "25%      0.000000    7.910400  \n",
       "50%      0.000000   14.454200  \n",
       "75%      0.000000   31.000000  \n",
       "max      6.000000  512.329200  "
      ]
     },
     "execution_count": 10,
     "metadata": {},
     "output_type": "execute_result"
    }
   ],
   "source": [
    "df.describe()"
   ]
  },
  {
   "cell_type": "code",
   "execution_count": 11,
   "id": "1acde4e8-d757-45c5-bf51-7b9fc97a65e8",
   "metadata": {
    "scrolled": true
   },
   "outputs": [
    {
     "data": {
      "text/plain": [
       "PassengerId      0\n",
       "Survived         0\n",
       "Pclass           0\n",
       "Name             0\n",
       "Sex              0\n",
       "Age            177\n",
       "SibSp            0\n",
       "Parch            0\n",
       "Ticket           0\n",
       "Fare             0\n",
       "Cabin          687\n",
       "Embarked         2\n",
       "dtype: int64"
      ]
     },
     "execution_count": 11,
     "metadata": {},
     "output_type": "execute_result"
    }
   ],
   "source": [
    "df.isnull().sum()"
   ]
  },
  {
   "cell_type": "code",
   "execution_count": 12,
   "id": "7b0a8a11-c386-4dfe-b0a7-b65e355b910f",
   "metadata": {},
   "outputs": [],
   "source": [
    "# Cabin has 687 null values out of 891 i.e. 77% so dropping cabin col\n",
    "\n",
    "df = df.drop(columns = ['Cabin'])"
   ]
  },
  {
   "cell_type": "code",
   "execution_count": 13,
   "id": "f554474d-021a-492f-816a-a1247ee75992",
   "metadata": {},
   "outputs": [
    {
     "data": {
      "text/plain": [
       "Sex\n",
       "female    27.0\n",
       "male      29.0\n",
       "Name: Age, dtype: float64"
      ]
     },
     "execution_count": 13,
     "metadata": {},
     "output_type": "execute_result"
    }
   ],
   "source": [
    "df.groupby('Sex')['Age'].median()"
   ]
  },
  {
   "cell_type": "code",
   "execution_count": 14,
   "id": "374d503c-9b8d-4dba-a106-4ec2d1d6ab6c",
   "metadata": {},
   "outputs": [],
   "source": [
    "# Replacing 177 null values with median of age\n",
    "\n",
    "df['Age'] = df['Age'].fillna(value = 28)"
   ]
  },
  {
   "cell_type": "code",
   "execution_count": 15,
   "id": "19b7bbcc-273b-425b-9e36-8a9fca33f967",
   "metadata": {},
   "outputs": [
    {
     "data": {
      "text/plain": [
       "PassengerId    0\n",
       "Survived       0\n",
       "Pclass         0\n",
       "Name           0\n",
       "Sex            0\n",
       "Age            0\n",
       "SibSp          0\n",
       "Parch          0\n",
       "Ticket         0\n",
       "Fare           0\n",
       "Embarked       2\n",
       "dtype: int64"
      ]
     },
     "execution_count": 15,
     "metadata": {},
     "output_type": "execute_result"
    }
   ],
   "source": [
    "df.isnull().sum()"
   ]
  },
  {
   "cell_type": "code",
   "execution_count": 16,
   "id": "7c9ec6f0-ffe9-484a-995a-ead9b7d7c622",
   "metadata": {},
   "outputs": [],
   "source": [
    "# removing 2 rows of embarked with null values\n",
    "\n",
    "df = df.dropna(subset = ['Embarked'])"
   ]
  },
  {
   "cell_type": "code",
   "execution_count": 17,
   "id": "00f1ed79-72ae-4098-8285-5e6083a88e89",
   "metadata": {},
   "outputs": [
    {
     "data": {
      "text/plain": [
       "PassengerId    0\n",
       "Survived       0\n",
       "Pclass         0\n",
       "Name           0\n",
       "Sex            0\n",
       "Age            0\n",
       "SibSp          0\n",
       "Parch          0\n",
       "Ticket         0\n",
       "Fare           0\n",
       "Embarked       0\n",
       "dtype: int64"
      ]
     },
     "execution_count": 17,
     "metadata": {},
     "output_type": "execute_result"
    }
   ],
   "source": [
    "df.isnull().sum()"
   ]
  },
  {
   "cell_type": "code",
   "execution_count": 18,
   "id": "ad3ecf6c-ad21-493b-9300-dce8602d1b1d",
   "metadata": {},
   "outputs": [
    {
     "name": "stdout",
     "output_type": "stream",
     "text": [
      "Survived : 38.25%\n",
      "Died : 61.75%\n"
     ]
    }
   ],
   "source": [
    "# Overall survival percentage\n",
    "\n",
    "survived_perctenage = df[df['Survived'] == 1].shape[0] / df['Survived'].shape[0] * 100\n",
    "print(f'''Survived : {round(survived_perctenage ,2)}%''')\n",
    "died_percentage = 100 - survived_perctenage\n",
    "print(f'Died : {round(died_percentage,2)}%')"
   ]
  },
  {
   "cell_type": "code",
   "execution_count": 19,
   "id": "a69b4771-bc31-42d0-abe6-4ee230cad62d",
   "metadata": {},
   "outputs": [
    {
     "name": "stdout",
     "output_type": "stream",
     "text": [
      "Male survival rate: 18.89%\n",
      "Female survival rate: 74.04%\n"
     ]
    }
   ],
   "source": [
    "# Survival rate by gender\n",
    "\n",
    "male_survivors_rate = df[(df['Survived'] == 1) & (df['Sex'] == 'male')].shape[0] / df[(df['Sex'] == 'male')].shape[0] * 100\n",
    "\n",
    "female_survivors_rate = df[(df['Survived'] == 1) & (df['Sex'] == 'female')].shape[0] / df[(df['Sex'] == 'female')].shape[0] * 100\n",
    "\n",
    "print(f'Male survival rate: {round(male_survivors_rate,2)}%')\n",
    "print(f'Female survival rate: {round(female_survivors_rate,2)}%')"
   ]
  },
  {
   "cell_type": "code",
   "execution_count": 20,
   "id": "1aed1c3e-7abd-42c2-a688-289e93553d2a",
   "metadata": {},
   "outputs": [
    {
     "data": {
      "image/png": "[encoded data removed]",
      "text/plain": [
       "<Figure size 500x500 with 1 Axes>"
      ]
     },
     "metadata": {},
     "output_type": "display_data"
    }
   ],
   "source": [
    "# Plotting bar graph to survival rate by gender\n",
    "\n",
    "Genders = ['Male','Female']\n",
    "surival_rates = [male_survivors_rate,female_survivors_rate]\n",
    "\n",
    "plt.figure(figsize = (5,5))\n",
    "plt.bar(Genders, surival_rates, color = 'skyblue')\n",
    "plt.xlabel('Gender')\n",
    "plt.ylabel('Survival Rate%')\n",
    "plt.title('Survival rate of Genders')\n",
    "plt.ylim(0,100)\n",
    "plt.grid(axis='y', linestyle='--', alpha=0.7)\n",
    "plt.show()"
   ]
  },
  {
   "cell_type": "code",
   "execution_count": 21,
   "id": "a157ad9d-b964-40e8-8bf1-97e0abbf8ed7",
   "metadata": {},
   "outputs": [],
   "source": [
    "# Creating age ranges to observe survival rate by age categories \n",
    "\n",
    "df['Age'] = np.ceil(df['Age']).astype(int)\n",
    "bins = [0,2,13,20,40,65,80]\n",
    "df['Age_Category'] = pd.cut(df['Age'],bins,labels = [\"Infant\",\"Chilldren\",\"Teenager\",\"Adult\",\"Middle_Age\",\"Senior\"])"
   ]
  },
  {
   "cell_type": "code",
   "execution_count": 22,
   "id": "58c0ce2d-8341-42f7-a632-5d2c17492877",
   "metadata": {},
   "outputs": [
    {
     "name": "stdout",
     "output_type": "stream",
     "text": [
      "Infant's survival rate : 62.5%\n",
      "Children's survival rate : 57.45%\n",
      "Teenager's survival rate : 37.04%\n",
      "Adult's survival rate : 36.36%\n",
      "Middle aged survival rate : 37.59%\n",
      "Senior's survival rate : 12.5%\n"
     ]
    }
   ],
   "source": [
    "# Surviaval rate by Age group\n",
    "\n",
    "infants_survival_rate = df[(df['Age_Category'] == 'Infant') & (df['Survived'] == 1)].shape[0] / df[df['Age_Category'] == 'Infant'].shape[0] * 100\n",
    "\n",
    "children_survival_rate = df[(df['Age_Category'] == 'Chilldren') & (df['Survived'] == 1)].shape[0] / df[df['Age_Category'] == 'Chilldren'].shape[0] * 100\n",
    "\n",
    "teenagers_survival_rate = df[(df['Age_Category'] == 'Teenager') & (df['Survived'] == 1)].shape[0] / df[df['Age_Category'] == 'Teenager'].shape[0] * 100\n",
    "\n",
    "adults_survival_rate = df[(df['Age_Category'] == 'Adult') & (df['Survived'] == 1)].shape[0] / df[df['Age_Category'] == 'Adult'].shape[0] * 100\n",
    "\n",
    "middle_aged_survival_rate = df[(df['Age_Category'] == 'Middle_Age') & (df['Survived'] == 1)].shape[0] / df[df['Age_Category'] == 'Middle_Age'].shape[0] * 100\n",
    "\n",
    "seniors_survival_rate = df[(df['Age_Category'] == 'Senior') & (df['Survived'] == 1)].shape[0] / df[df['Age_Category'] == 'Senior'].shape[0] * 100\n",
    "\n",
    "print(f'''Infant's survival rate : {round(infants_survival_rate,2)}%\n",
    "Children's survival rate : {round(children_survival_rate,2)}%\n",
    "Teenager's survival rate : {round(teenagers_survival_rate,2)}%\n",
    "Adult's survival rate : {round(adults_survival_rate,2)}%\n",
    "Middle aged survival rate : {round(middle_aged_survival_rate,2)}%\n",
    "Senior's survival rate : {round(seniors_survival_rate,2)}%''')"
   ]
  },
  {
   "cell_type": "code",
   "execution_count": 23,
   "id": "a8e808b5-e383-4354-952a-824671f16e8a",
   "metadata": {},
   "outputs": [
    {
     "data": {
      "image/png": "[encoded data removed]",
      "text/plain": [
       "<Figure size 600x600 with 1 Axes>"
      ]
     },
     "metadata": {},
     "output_type": "display_data"
    }
   ],
   "source": [
    "# Plotting barchart for above survival rate\n",
    "\n",
    "categories = [\"Infant\",\"Chilldren\",\"Teenager\",\"Adult\",\"Middle Age\",\"Senior\"]\n",
    "survival_rates = [infants_survival_rate,children_survival_rate,teenagers_survival_rate,adults_survival_rate,middle_aged_survival_rate,seniors_survival_rate]\n",
    "\n",
    "plt.figure(figsize = (6,6))\n",
    "plt.bar(categories, survival_rates, color = 'skyblue')\n",
    "plt.xlabel('Age Group')\n",
    "plt.ylabel('Survival Rate %')\n",
    "plt.title('Survival rate of Age groups')\n",
    "plt.ylim(0,100)\n",
    "plt.grid(axis='y', linestyle='--', alpha=0.7)\n",
    "plt.show()"
   ]
  },
  {
   "cell_type": "code",
   "execution_count": 24,
   "id": "0b563858-6ce0-456e-8a5b-7fc4ad5f73e3",
   "metadata": {},
   "outputs": [
    {
     "name": "stdout",
     "output_type": "stream",
     "text": [
      "Out of 340 Total survivors, 109 are male and 231 are female\n"
     ]
    }
   ],
   "source": [
    "# Lets see distribution of survivors by Gender\n",
    "\n",
    "total_survivors = df[df['Survived'] == 1]\n",
    "total_survivors_count = total_survivors.shape[0]\n",
    "male_survivors = total_survivors[total_survivors['Sex'] == 'male']\n",
    "male_survivors_count = male_survivors.shape[0]\n",
    "female_survivors = total_survivors[total_survivors['Sex'] == 'female']\n",
    "female_survivors_count = female_survivors.shape[0]\n",
    "print(f'Out of {total_survivors_count} Total survivors, {male_survivors_count} are male and {female_survivors_count} are female')"
   ]
  },
  {
   "cell_type": "code",
   "execution_count": 25,
   "id": "5ea43372-34e4-4e6d-ad5a-84be5266f86b",
   "metadata": {},
   "outputs": [
    {
     "data": {
      "image/png": "[encoded data removed]",
      "text/plain": [
       "<Figure size 400x400 with 1 Axes>"
      ]
     },
     "metadata": {},
     "output_type": "display_data"
    }
   ],
   "source": [
    "# Plotting a pie chart to see survivors distribution by gender\n",
    "\n",
    "labels = ['Male Survivors','Female Survivors']\n",
    "sizes = [male_survivors_count,female_survivors_count]\n",
    "colors = ['lightblue','lightcoral']\n",
    "\n",
    "plt.figure(figsize = (4,4))\n",
    "plt.pie(sizes, labels = labels, autopct='%1.1f%%', colors = colors)\n",
    "plt.title('Survivors Distribution by Gender')\n",
    "plt.show()"
   ]
  },
  {
   "cell_type": "code",
   "execution_count": 26,
   "id": "b0d899f2-217c-4130-913e-b5427396c14d",
   "metadata": {},
   "outputs": [
    {
     "name": "stdout",
     "output_type": "stream",
     "text": [
      "Out of 340 total survivors 15 are infants, 27 are children, 40 are teenagers, 204 are adults, 53 are middle aged and 1 is senior\n"
     ]
    }
   ],
   "source": [
    "# Lets see distribution of survivors by Age Group\n",
    "\n",
    "infant_survivor = total_survivors[total_survivors['Age_Category'] == 'Infant']\n",
    "infant_survivor_count = infant_survivor.shape[0]\n",
    "\n",
    "children_survivor = total_survivors[total_survivors['Age_Category'] == 'Chilldren']\n",
    "children_survivor_count = children_survivor.shape[0]\n",
    "\n",
    "teenager_survivor = total_survivors[total_survivors['Age_Category'] == 'Teenager']\n",
    "teenager_survivor_count = teenager_survivor.shape[0]\n",
    "\n",
    "adult_survivor = total_survivors[total_survivors['Age_Category'] == 'Adult']\n",
    "adult_survivor_count = adult_survivor.shape[0]\n",
    "\n",
    "middle_age_survivor = total_survivors[total_survivors['Age_Category'] == 'Middle_Age']\n",
    "middle_age_survivor_count = middle_age_survivor.shape[0]\n",
    "\n",
    "senior_survivor = total_survivors[total_survivors['Age_Category'] == 'Senior']\n",
    "senior_survivor_count = senior_survivor.shape[0]\n",
    "\n",
    "print(f'Out of {total_survivors_count} total survivors {infant_survivor_count} are infants, {children_survivor_count} are children, {teenager_survivor_count} are teenagers, {adult_survivor_count} are adults, {middle_age_survivor_count} are middle aged and {senior_survivor_count} is senior')\n",
    "\n"
   ]
  },
  {
   "cell_type": "code",
   "execution_count": 27,
   "id": "ba26ec04-663a-4a73-bd95-8aae8936cf74",
   "metadata": {},
   "outputs": [
    {
     "data": {
      "image/png": "[encoded data removed]",
      "text/plain": [
       "<Figure size 500x500 with 1 Axes>"
      ]
     },
     "metadata": {},
     "output_type": "display_data"
    }
   ],
   "source": [
    "# Plotting another pie chart to\n",
    "\n",
    "labels = ['Infants','Children','Teenagers','Adults','Middle Aged','Seniors']\n",
    "sizes = [infant_survivor_count,children_survivor_count,teenager_survivor_count,adult_survivor_count,middle_age_survivor_count,senior_survivor_count]\n",
    "colors = ['#FF9999', '#66B3FF', '#99FF99', '#FFCC99', '#C2C2F0', '#FFB3E6']\n",
    "\n",
    "plt.figure(figsize = (5,5))\n",
    "plt.pie(sizes, labels = labels, colors = colors, autopct='%1.1f%%')\n",
    "plt.title('Survivors Distribution by Age group')\n",
    "plt.show()"
   ]
  },
  {
   "cell_type": "code",
   "execution_count": 28,
   "id": "9d37c02d-e571-473b-bdf1-250a16767812",
   "metadata": {},
   "outputs": [
    {
     "name": "stdout",
     "output_type": "stream",
     "text": [
      "Out of 340 total survivors 93 were from Cherbourg, 30 were from Queenstown and 217 were from Southampton\n"
     ]
    }
   ],
   "source": [
    "# Lets see distribution of survivors by boarding location\n",
    "# C = Cherbourg, Q = Queenstown, S = Southampton\n",
    "\n",
    "cherbourg_survivors = total_survivors[total_survivors['Embarked'] == 'C']\n",
    "cherbourg_survivors_count = cherbourg_survivors.shape[0]\n",
    "\n",
    "queenstown_survivors = total_survivors[total_survivors['Embarked'] == 'Q']\n",
    "queenstown_survivors_count = queenstown_survivors.shape[0]\n",
    "\n",
    "southampton_survivors = total_survivors[total_survivors['Embarked'] == 'S']\n",
    "southampton_survivors_count = southampton_survivors.shape[0]\n",
    "\n",
    "print(f'Out of {total_survivors_count} total survivors {cherbourg_survivors_count} were from Cherbourg, {queenstown_survivors_count} were from Queenstown and {southampton_survivors_count} were from Southampton')      \n"
   ]
  },
  {
   "cell_type": "code",
   "execution_count": 29,
   "id": "8a12b42f-149d-490a-8681-ca746388f4ea",
   "metadata": {},
   "outputs": [
    {
     "data": {
      "image/png": "[encoded data removed]",
      "text/plain": [
       "<Figure size 400x400 with 1 Axes>"
      ]
     },
     "metadata": {},
     "output_type": "display_data"
    }
   ],
   "source": [
    "# Plotting another pie chart \n",
    "\n",
    "labels = ['Cherbourg','Queenstown','Southampton']\n",
    "sizes = [cherbourg_survivors_count,queenstown_survivors_count,southampton_survivors_count]\n",
    "colors = ['#FFCC99', '#C2C2F0', '#FFB3E6']\n",
    "\n",
    "plt.figure(figsize = (4,4))\n",
    "plt.pie(sizes, labels = labels, colors = colors, autopct='%1.1f%%')\n",
    "plt.title('Survivors Distribution by Boarding Location')\n",
    "plt.show()"
   ]
  },
  {
   "cell_type": "code",
   "execution_count": 31,
   "id": "61f701dd-2d6f-4edd-a163-0e29ce6e3fab",
   "metadata": {},
   "outputs": [
    {
     "name": "stdout",
     "output_type": "stream",
     "text": [
      "Survival rate of people traveling with more than 2 Sibsp is 15.22% \n",
      "and of people travelling with less than 2 Sibsp is 39.5%\n",
      "Therefore  24.28% chances dropped when travelling with 2 or more Sibsp\n"
     ]
    }
   ],
   "source": [
    "# Survival rate by class\n",
    "\n",
    "more_than_two_sibsp = df[(df['SibSp'] > 2)].shape[0]\n",
    "less_than_two_sibsp = df[(df['SibSp'] <= 2)].shape[0]\n",
    "more_than_two_sibsp_perc = df[(df['SibSp'] > 2) & (df['Survived'] == 1)].shape[0] / more_than_two_sibsp * 100 \n",
    "less_than_two_sibsp_perc = df[(df['SibSp'] <= 2) & (df['Survived'] == 1)].shape[0] / less_than_two_sibsp * 100 \n",
    "print(f'''Survival rate of people traveling with more than 2 Sibsp is {round(more_than_two_sibsp_perc,2)}% \n",
    "and of people travelling with less than 2 Sibsp is {round(less_than_two_sibsp_perc,2)}%\n",
    "Therefore  {round(less_than_two_sibsp_perc,2) - round(more_than_two_sibsp_perc,2)}% chances dropped when travelling with 2 or more Sibsp''')"
   ]
  },
  {
   "cell_type": "code",
   "execution_count": 33,
   "id": "a0ad5271-e1a8-4fb1-86e2-3f46231a3d52",
   "metadata": {},
   "outputs": [
    {
     "name": "stdout",
     "output_type": "stream",
     "text": [
      "Average fare of people who survived : 48.21\n",
      "Average fare of people who did not survived : 22.12\n"
     ]
    }
   ],
   "source": [
    "# Average fare of survived vs not survived\n",
    "\n",
    "survived_mean_fare = df[(df['Survived'] == 1)]['Fare'].mean()\n",
    "not_survived_mean_fare = df[(df['Survived'] == 0)]['Fare'].mean()\n",
    "print(f'''Average fare of people who survived : {round(survived_mean_fare,2)}\n",
    "Average fare of people who did not survived : {round(not_survived_mean_fare,2)}''')"
   ]
  },
  {
   "cell_type": "code",
   "execution_count": null,
   "id": "6a484081-47f2-4121-aa75-2fa38370e2c8",
   "metadata": {},
   "outputs": [],
   "source": []
  }
 ],
 "metadata": {
  "kernelspec": {
   "display_name": "Python 3 (ipykernel)",
   "language": "python",
   "name": "python3"
  },
  "language_info": {
   "codemirror_mode": {
    "name": "ipython",
    "version": 3
   },
   "file_extension": ".py",
   "mimetype": "text/x-python",
   "name": "python",
   "nbconvert_exporter": "python",
   "pygments_lexer": "ipython3",
   "version": "3.12.4"
  }
 },
 "nbformat": 4,
 "nbformat_minor": 5
}
